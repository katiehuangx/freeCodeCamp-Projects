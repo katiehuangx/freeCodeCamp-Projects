{
 "cells": [
  {
   "cell_type": "markdown",
   "id": "763b0346-0309-4614-9212-47a8972be6c0",
   "metadata": {
    "tags": []
   },
   "source": [
    "# 👩🏻‍💻 freeCodeCamp: Demographic Data Analyzer\n",
    "\n",
    "In this challenge you must analyze demographic data using Pandas. You are given a dataset of demographic data that was extracted from the 1994 Census database. Here is a sample of what the data looks like:\n",
    "\n",
    "You must use Pandas to answer the following questions:\n",
    "\n",
    "1. How many people of each race are represented in this dataset? This should be a Pandas series with race names as the index labels. (race column)\n",
    "2. What is the average age of men?\n",
    "3. What is the percentage of people who have a Bachelor's degree?\n",
    "4. What percentage of people with advanced education (Bachelors, Masters, or Doctorate) make more than 50K?\n",
    "5. What percentage of people without advanced education make more than 50K?\n",
    "6. What is the minimum number of hours a person works per week?\n",
    "7. What percentage of the people who work the minimum number of hours per week have a salary of more than 50K?\n",
    "8. What country has the highest percentage of people that earn >50K and what is that percentage?\n",
    "9. Identify the most popular occupation for those who earn >50K in India.\n",
    "\n",
    "Link: [https://www.freecodecamp.org/learn/data-analysis-with-python/data-analysis-with-python-projects/demographic-data-analyzer](https://www.freecodecamp.org/learn/data-analysis-with-python/data-analysis-with-python-projects/demographic-data-analyzer)"
   ]
  },
  {
   "cell_type": "code",
   "execution_count": 1,
   "id": "25888939-4cc9-4c56-8d4d-aad1c41d2a3d",
   "metadata": {},
   "outputs": [],
   "source": [
    "import pandas as pd\n",
    "import numpy as np"
   ]
  },
  {
   "cell_type": "code",
   "execution_count": 2,
   "id": "0f66e97a-bcae-46b8-b354-64827de90c5f",
   "metadata": {},
   "outputs": [
    {
     "data": {
      "text/html": [
       "<div>\n",
       "<style scoped>\n",
       "    .dataframe tbody tr th:only-of-type {\n",
       "        vertical-align: middle;\n",
       "    }\n",
       "\n",
       "    .dataframe tbody tr th {\n",
       "        vertical-align: top;\n",
       "    }\n",
       "\n",
       "    .dataframe thead th {\n",
       "        text-align: right;\n",
       "    }\n",
       "</style>\n",
       "<table border=\"1\" class=\"dataframe\">\n",
       "  <thead>\n",
       "    <tr style=\"text-align: right;\">\n",
       "      <th></th>\n",
       "      <th>age</th>\n",
       "      <th>workclass</th>\n",
       "      <th>fnlwgt</th>\n",
       "      <th>education</th>\n",
       "      <th>education-num</th>\n",
       "      <th>marital-status</th>\n",
       "      <th>occupation</th>\n",
       "      <th>relationship</th>\n",
       "      <th>race</th>\n",
       "      <th>sex</th>\n",
       "      <th>capital-gain</th>\n",
       "      <th>capital-loss</th>\n",
       "      <th>hours-per-week</th>\n",
       "      <th>native-country</th>\n",
       "      <th>salary</th>\n",
       "    </tr>\n",
       "  </thead>\n",
       "  <tbody>\n",
       "    <tr>\n",
       "      <th>0</th>\n",
       "      <td>39</td>\n",
       "      <td>State-gov</td>\n",
       "      <td>77516</td>\n",
       "      <td>Bachelors</td>\n",
       "      <td>13</td>\n",
       "      <td>Never-married</td>\n",
       "      <td>Adm-clerical</td>\n",
       "      <td>Not-in-family</td>\n",
       "      <td>White</td>\n",
       "      <td>Male</td>\n",
       "      <td>2174</td>\n",
       "      <td>0</td>\n",
       "      <td>40</td>\n",
       "      <td>United-States</td>\n",
       "      <td>&lt;=50K</td>\n",
       "    </tr>\n",
       "    <tr>\n",
       "      <th>1</th>\n",
       "      <td>50</td>\n",
       "      <td>Self-emp-not-inc</td>\n",
       "      <td>83311</td>\n",
       "      <td>Bachelors</td>\n",
       "      <td>13</td>\n",
       "      <td>Married-civ-spouse</td>\n",
       "      <td>Exec-managerial</td>\n",
       "      <td>Husband</td>\n",
       "      <td>White</td>\n",
       "      <td>Male</td>\n",
       "      <td>0</td>\n",
       "      <td>0</td>\n",
       "      <td>13</td>\n",
       "      <td>United-States</td>\n",
       "      <td>&lt;=50K</td>\n",
       "    </tr>\n",
       "    <tr>\n",
       "      <th>2</th>\n",
       "      <td>38</td>\n",
       "      <td>Private</td>\n",
       "      <td>215646</td>\n",
       "      <td>HS-grad</td>\n",
       "      <td>9</td>\n",
       "      <td>Divorced</td>\n",
       "      <td>Handlers-cleaners</td>\n",
       "      <td>Not-in-family</td>\n",
       "      <td>White</td>\n",
       "      <td>Male</td>\n",
       "      <td>0</td>\n",
       "      <td>0</td>\n",
       "      <td>40</td>\n",
       "      <td>United-States</td>\n",
       "      <td>&lt;=50K</td>\n",
       "    </tr>\n",
       "    <tr>\n",
       "      <th>3</th>\n",
       "      <td>53</td>\n",
       "      <td>Private</td>\n",
       "      <td>234721</td>\n",
       "      <td>11th</td>\n",
       "      <td>7</td>\n",
       "      <td>Married-civ-spouse</td>\n",
       "      <td>Handlers-cleaners</td>\n",
       "      <td>Husband</td>\n",
       "      <td>Black</td>\n",
       "      <td>Male</td>\n",
       "      <td>0</td>\n",
       "      <td>0</td>\n",
       "      <td>40</td>\n",
       "      <td>United-States</td>\n",
       "      <td>&lt;=50K</td>\n",
       "    </tr>\n",
       "    <tr>\n",
       "      <th>4</th>\n",
       "      <td>28</td>\n",
       "      <td>Private</td>\n",
       "      <td>338409</td>\n",
       "      <td>Bachelors</td>\n",
       "      <td>13</td>\n",
       "      <td>Married-civ-spouse</td>\n",
       "      <td>Prof-specialty</td>\n",
       "      <td>Wife</td>\n",
       "      <td>Black</td>\n",
       "      <td>Female</td>\n",
       "      <td>0</td>\n",
       "      <td>0</td>\n",
       "      <td>40</td>\n",
       "      <td>Cuba</td>\n",
       "      <td>&lt;=50K</td>\n",
       "    </tr>\n",
       "  </tbody>\n",
       "</table>\n",
       "</div>"
      ],
      "text/plain": [
       "   age         workclass  fnlwgt  education  education-num  \\\n",
       "0   39         State-gov   77516  Bachelors             13   \n",
       "1   50  Self-emp-not-inc   83311  Bachelors             13   \n",
       "2   38           Private  215646    HS-grad              9   \n",
       "3   53           Private  234721       11th              7   \n",
       "4   28           Private  338409  Bachelors             13   \n",
       "\n",
       "       marital-status         occupation   relationship   race     sex  \\\n",
       "0       Never-married       Adm-clerical  Not-in-family  White    Male   \n",
       "1  Married-civ-spouse    Exec-managerial        Husband  White    Male   \n",
       "2            Divorced  Handlers-cleaners  Not-in-family  White    Male   \n",
       "3  Married-civ-spouse  Handlers-cleaners        Husband  Black    Male   \n",
       "4  Married-civ-spouse     Prof-specialty           Wife  Black  Female   \n",
       "\n",
       "   capital-gain  capital-loss  hours-per-week native-country salary  \n",
       "0          2174             0              40  United-States  <=50K  \n",
       "1             0             0              13  United-States  <=50K  \n",
       "2             0             0              40  United-States  <=50K  \n",
       "3             0             0              40  United-States  <=50K  \n",
       "4             0             0              40           Cuba  <=50K  "
      ]
     },
     "execution_count": 2,
     "metadata": {},
     "output_type": "execute_result"
    }
   ],
   "source": [
    "df = pd.read_csv(\"/Users/katiehuang/Documents/Data Science/Projects/Demographic Data Analyzer/adult_data.csv\")\n",
    "\n",
    "df.head()"
   ]
  },
  {
   "cell_type": "markdown",
   "id": "ba5fcacc-a98b-461b-86a1-4b572f8b757a",
   "metadata": {},
   "source": [
    "## 1. How many people of each race are represented in this dataset? This should be a Pandas series with race names as the index labels. (race column)\n",
    "\n"
   ]
  },
  {
   "cell_type": "code",
   "execution_count": 3,
   "id": "d39d41c8-eaec-44ea-b9ce-f60d2211fbfb",
   "metadata": {},
   "outputs": [
    {
     "data": {
      "text/plain": [
       "White                 27816\n",
       "Black                  3124\n",
       "Asian-Pac-Islander     1039\n",
       "Amer-Indian-Eskimo      311\n",
       "Other                   271\n",
       "Name: race, dtype: int64"
      ]
     },
     "execution_count": 3,
     "metadata": {},
     "output_type": "execute_result"
    }
   ],
   "source": [
    "race_count = df[\"race\"].value_counts()\n",
    "race_count"
   ]
  },
  {
   "cell_type": "markdown",
   "id": "33af289f-57f0-4e45-af35-c206fe5bbbea",
   "metadata": {},
   "source": [
    "## 2. What is the average age of men?"
   ]
  },
  {
   "cell_type": "code",
   "execution_count": 4,
   "id": "1273b47d-15f4-4727-ba82-2d14f003c002",
   "metadata": {},
   "outputs": [
    {
     "name": "stdout",
     "output_type": "stream",
     "text": [
      "The average age of men is 39.4 years old.\n"
     ]
    }
   ],
   "source": [
    "avg_age = round(df[df[\"sex\"] == \"Male\"][\"age\"].mean(),1)\n",
    "\n",
    "print(f\"The average age of men is {avg_age} years old.\")"
   ]
  },
  {
   "cell_type": "markdown",
   "id": "6c9d28b4-d8fd-4571-859c-002b2f50262c",
   "metadata": {},
   "source": [
    "## 3. What is the percentage of people who have a Bachelor's degree?\n",
    "\n"
   ]
  },
  {
   "cell_type": "code",
   "execution_count": 18,
   "id": "eece269a-f35a-4573-93f1-1b06620487f2",
   "metadata": {},
   "outputs": [
    {
     "name": "stdout",
     "output_type": "stream",
     "text": [
      "16.0% of people has a Bachelor's degree.\n"
     ]
    }
   ],
   "source": [
    "bachelors = df[df.education == 'Bachelors']\n",
    "\n",
    "bachelors_pct = round(len(bachelors) / len(df),2)\n",
    "bachelors_pct\n",
    "\n",
    "print(f\"{bachelors_pct * 100}% of people has a Bachelor's degree.\")"
   ]
  },
  {
   "cell_type": "markdown",
   "id": "6a45218a-2b2d-4cda-bc7f-5ca5b92bc472",
   "metadata": {},
   "source": [
    "## 4. What percentage of people with advanced education (Bachelors, Masters, or Doctorate) make more than 50K?"
   ]
  },
  {
   "cell_type": "code",
   "execution_count": 79,
   "id": "bada2d62-c28f-4029-9098-972ccaafe391",
   "metadata": {},
   "outputs": [
    {
     "name": "stdout",
     "output_type": "stream",
     "text": [
      "11.0% of people with advanced education (Bachelors, Masters, or Doctorate) makes more than $50K.\n"
     ]
    }
   ],
   "source": [
    "# Find dfs with Bachelors, Masters, or Doctorate education\n",
    "higher_education = df[df['education'].isin(['Bachelors', 'Masters', 'Doctorate'])]\n",
    "\n",
    "# Find dfs with Bachelors, Masters, or Doctorate education earning > 50k\n",
    "higher_education_pct = round(len(higher_education[higher_education['salary'] == '>50K']) / len(higher_education),1)\n",
    "\n",
    "print(f\"{adv_education_pct * 100}% of people with advanced education (Bachelors, Masters, or Doctorate) makes more than $50K.\")"
   ]
  },
  {
   "cell_type": "markdown",
   "id": "f3931737-afaa-46d5-99e4-99702450d8b8",
   "metadata": {},
   "source": [
    "## 5. What percentage of people without advanced education make more than 50K?\n",
    "\n"
   ]
  },
  {
   "cell_type": "code",
   "execution_count": 78,
   "id": "9afd8240-dd64-4a12-82f4-06491ac03ba7",
   "metadata": {},
   "outputs": [
    {
     "name": "stdout",
     "output_type": "stream",
     "text": [
      "13.0% of people without advanced education makes more than $50K.\n"
     ]
    }
   ],
   "source": [
    "# Create a df without Bachelors, Masters, or Doctorate education\n",
    "lower_education = df[~df['education'].isin(['Bachelors', 'Masters', 'Doctorate'])]\n",
    "\n",
    "# Filter in lower_education earning > 50k then, divide by no. of rows in lower_education\n",
    "lower_education_pct = round(len(lower_education[lower_education['salary'] == '>50K']) / len(lower_education),1)\n",
    "\n",
    "print(f\"{no_adv_education_pct * 100}% of people without advanced education makes more than $50K.\")"
   ]
  },
  {
   "cell_type": "markdown",
   "id": "cba7aba1-e8d9-4cf9-a93f-ce343b6264cf",
   "metadata": {},
   "source": [
    "## 6. What is the minimum number of hours a person works per week?\n",
    "\n"
   ]
  },
  {
   "cell_type": "code",
   "execution_count": 8,
   "id": "d3b57050-0f4a-4977-af92-7da6f2d90e9e",
   "metadata": {},
   "outputs": [
    {
     "name": "stdout",
     "output_type": "stream",
     "text": [
      "The minimum number of hours a person works per week is 1 hour(s).\n"
     ]
    }
   ],
   "source": [
    "# 'hours-per-week' represents number of hours worked in a week. Find the minimum hours in the field.\n",
    "min_hours_work = df[\"hours-per-week\"].min()\n",
    "\n",
    "print(f\"The minimum number of hours a person works per week is {min_hours_work} hour(s).\")"
   ]
  },
  {
   "cell_type": "markdown",
   "id": "c38803f1-b5da-4d90-b38a-36d27afb3a41",
   "metadata": {},
   "source": [
    "## 7. What percentage of the people who work the minimum number of hours per week have a salary of more than 50K?\n",
    "\n"
   ]
  },
  {
   "cell_type": "code",
   "execution_count": 82,
   "id": "a1eaf6f6-3f82-4cd4-ae6d-d097c66f7a10",
   "metadata": {},
   "outputs": [
    {
     "name": "stdout",
     "output_type": "stream",
     "text": [
      "0.01% of people who work the minimum number of hours per week have a salary of more than 50K.\n"
     ]
    }
   ],
   "source": [
    "min_hours = df[df[\"hours-per-week\"] == min_hours_work]\n",
    "\n",
    "min_hours_pct = round(len(min_hours[min_hours[\"salary\"] == \">50K\"]) / len(df),4)\n",
    "\n",
    "print(f\"{min_hours_pct * 100}% of people who work the minimum number of hours per week have a salary of more than 50K.\")"
   ]
  },
  {
   "cell_type": "markdown",
   "id": "63a17fd0-4827-4dec-ab50-dad3f07317c0",
   "metadata": {},
   "source": [
    "## 8. What country has the highest percentage of people that earn >50K and what is that percentage?"
   ]
  },
  {
   "cell_type": "code",
   "execution_count": 84,
   "id": "edb0ac83-3aa6-4be0-9a60-d5a09b3521d9",
   "metadata": {
    "tags": []
   },
   "outputs": [
    {
     "name": "stdout",
     "output_type": "stream",
     "text": [
      "United-States has the highest percentage of people that earn more than $50K at 22.0%.\n"
     ]
    }
   ],
   "source": [
    "# Find the number of countries\n",
    "country_count = len(df)\n",
    "\n",
    "# Find the number of countries where people earn > $50k\n",
    "rich_country_count = df[df['salary'] == '>50K']['native-country'].value_counts()\n",
    "\n",
    "highest_earning_country = (rich_country_count / country_count * 100).idxmax()\n",
    "highest_earning_country_percentage = round((rich_country_count / country_count * 100).max(),1)\n",
    "\n",
    "# .idxmax() returns the index for the maximum value in each column\n",
    "# Reference: https://pandas.pydata.org/docs/reference/api/pandas.DataFrame.idxmax.html\n",
    "\n",
    "print(f\"{highest_earning_country} has the highest percentage of people that earn more than $50K at {highest_earning_country_percentage}%.\")"
   ]
  },
  {
   "cell_type": "markdown",
   "id": "11a9e62c-790a-4845-b786-9e98c6f00837",
   "metadata": {},
   "source": [
    "## 9. Identify the most popular occupation for those who earn >50K in India."
   ]
  },
  {
   "cell_type": "code",
   "execution_count": 103,
   "id": "b0da299b-fcf5-4fa9-83a3-a2a82b6dc7a6",
   "metadata": {},
   "outputs": [
    {
     "name": "stdout",
     "output_type": "stream",
     "text": [
      "Prof-specialty is the most popular occupation for those who earn >$50K in India.\n"
     ]
    }
   ],
   "source": [
    "# Create df with India only\n",
    "india = df[df['native-country'] == 'India']\n",
    "\n",
    "# Find number of people in India earning > 50k grouped by occupation and find the max value\n",
    "india_popular_occupation = india[india['salary'] == '>50K']['occupation'].value_counts().idxmax()\n",
    "\n",
    "print(f\"{india_popular_occupation} is the most popular occupation for those who earn >$50K in India.\")"
   ]
  }
 ],
 "metadata": {
  "kernelspec": {
   "display_name": "Python 3",
   "language": "python",
   "name": "python3"
  },
  "language_info": {
   "codemirror_mode": {
    "name": "ipython",
    "version": 3
   },
   "file_extension": ".py",
   "mimetype": "text/x-python",
   "name": "python",
   "nbconvert_exporter": "python",
   "pygments_lexer": "ipython3",
   "version": "3.8.11"
  }
 },
 "nbformat": 4,
 "nbformat_minor": 5
}
